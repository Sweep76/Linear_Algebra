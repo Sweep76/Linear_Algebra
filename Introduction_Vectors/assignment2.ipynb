{
 "cells": [
  {
   "cell_type": "markdown",
   "id": "6d8c1f68-eae4-4f82-92ec-f6dc71516f4f",
   "metadata": {},
   "source": [
    "#### Joshua Patrick G. Chiu\n",
    "# System of Linear Equations Homework\n",
    "<br>\n",
    "\n",
    "### Assignment 1\n",
    "<br>\n",
    "Given this code for Forward Elimination"
   ]
  },
  {
   "cell_type": "code",
   "execution_count": 6,
   "id": "aeee9e3b-0037-42b8-883d-7fc8129eefbd",
   "metadata": {},
   "outputs": [],
   "source": [
    "import numpy as np\n",
    "# Pythonic Solutions\n",
    "# the following functions are the steps involved in forward elimination\n",
    "\n",
    "def RowSwap(A,k,l):\n",
    "# =============================================================================\n",
    "#     A is a NumPy array.  RowSwap will return duplicate array with rows\n",
    "#     k and l swapped.\n",
    "# =============================================================================\n",
    "    m = A.shape[0]  # m is number of rows in A\n",
    "    n = A.shape[1]  # n is number of columns in A\n",
    "    \n",
    "    B = np.copy(A).astype('float64')\n",
    "        \n",
    "    for j in range(n):\n",
    "        temp = B[k][j]\n",
    "        B[k][j] = B[l][j]\n",
    "        B[l][j] = temp\n",
    "        \n",
    "    return B\n",
    "\n",
    "def RowScale(A,k,scale):\n",
    "# =============================================================================\n",
    "#     A is a NumPy array.  RowScale will return duplicate array with the\n",
    "#     entries of row k multiplied by scale.\n",
    "# =============================================================================\n",
    "    m = A.shape[0]  # m is number of rows in A\n",
    "    n = A.shape[1]  # n is number of columns in A\n",
    "    \n",
    "    B = np.copy(A).astype('float64')\n",
    "\n",
    "    for j in range(n):\n",
    "        B[k][j] *= scale\n",
    "        \n",
    "    return B\n",
    "\n",
    "def RowAdd(A,k,l,scale):\n",
    "# =============================================================================\n",
    "#     A is a numpy array.  RowAdd will return duplicate array with row\n",
    "#     l modifed.  The new values will be the old values of row l added to \n",
    "#     the values of row k, multiplied by scale.\n",
    "# =============================================================================\n",
    "    m = A.shape[0]  # m is number of rows in A\n",
    "    n = A.shape[1]  # n is number of columns in A\n",
    "    \n",
    "    B = np.copy(A).astype('float64')\n",
    "        \n",
    "    for j in range(n):\n",
    "        B[l][j] += B[k][j]*scale\n",
    "        \n",
    "    return B"
   ]
  },
  {
   "cell_type": "markdown",
   "id": "fc7ea1c8-7253-408b-a4d1-a9d6910c0a57",
   "metadata": {},
   "source": [
    "##### Complete the process of determining the solution by creating a function or steps of function that will automate backward substitution."
   ]
  },
  {
   "cell_type": "code",
   "execution_count": 2,
   "id": "9e0afaf1-c592-4b3e-a4fa-0ae642c62e71",
   "metadata": {},
   "outputs": [],
   "source": [
    "# code for the automation of backward substitution\n",
    "def BackwardSubstitution(U, b):\n",
    "    n = U.shape[0]  # Number of rows/columns in U\n",
    "    x = np.zeros(n)  # Initialize the solution vector\n",
    "\n",
    "    for i in range(n - 1, -1, -1):\n",
    "        x[i] = b[i]\n",
    "        for j in range(i + 1, n):\n",
    "            x[i] -= U[i][j] * x[j]\n",
    "        if U[i][i] != 0:\n",
    "            x[i] /= U[i][i]\n",
    "        else:\n",
    "            x[i] = 0  # Set x[i] to 0 as an example\n",
    "\n",
    "    return x"
   ]
  },
  {
   "cell_type": "markdown",
   "id": "8c52b2fb-313e-4575-bf2c-c42aa86e5435",
   "metadata": {},
   "source": [
    "\n",
    "### ASSIGNMENT 2\n",
    "<br>\n",
    "1. Provide reasons why each of the following equations is, or is not, a linear equation.\n",
    "<li> $\\cos{\\theta}x+4y+z = \\sqrt{3}$\n",
    "    <br> -  Given the linear equation property that variables are raised to the power of 1 and multiplied by constants, all the variables in the given equation are raised to the power of 1, and they are multiplied by constants (cos θ, 4, and 1). Therefore, the variables x, y, and z are combined linearly with constant coefficients; no square roots, trigonometric functions, or other nonlinear operations are used. <br><br>\n",
    "<li> $ cos{x}4y+z = \\sqrt{3} $\n",
    "    <br> - The equation is a non-linear equation. This is due to the fact that $cos{x}$ violates the 1st criteria of a linear equation which states that each variable must appear to the first power (no exponents or functions must be applied to the variables). <br><br>\n",
    "<li> $ x^{-1}+7y+z = \\sin{(\\frac{\\pi}{2})} $\n",
    "    <br> - Since variables should always be raised to the first power, the above equation is non-linear because variable x is raised to the power of -1. The function of $x (x^{-1})$, which is not a constant, determines the coefficient of x. Although $\\sin{(\\frac{\\pi}{2})}$ is a linear constant, it still isnt able to make the equation a whole linear equation. <br><br>\n",
    "<li> $ x^1+y^1+z^1=0 $\n",
    "    <br> - The equation is clearly a linear equation. The first thing to notice is that all three variables (x, y, and z) have an exponent of 1, which is a feature of linear equations. Second, these variables are simply combined together with coefficients of 1, as there are no multiplicative terms influencing them. Third, the variables are not subjected to any further nonlinear processes, such as square roots or trigonometric functions. Last but not least, we have a constant, which is 0 on the right side. The right-hand side of a linear equation is always a constant value.\n",
    " <br><br>"
   ]
  },
  {
   "cell_type": "markdown",
   "id": "3f366414-8956-475b-86ea-9b583ac2e391",
   "metadata": {},
   "source": [
    "2. Find the solutions to the linear equations: <br>\n",
    "a) $2x_1+3x_2 =5$"
   ]
  },
  {
   "cell_type": "markdown",
   "id": "0cea5cff-064f-4e47-a670-9401eb126db3",
   "metadata": {},
   "source": [
    "Manual Solution:\r\n",
    "$\r\n",
    "2x_1+3x_2 =5 \\\\\r\n",
    "\\frac{2x_1}{2} = \\frac{5 - 3x_2}{2} \\\\\r\n",
    "\\boxed{x_1 = \\frac{5}{2} - \\frac{3}{2}x_2}\r\n",
    "$"
   ]
  },
  {
   "cell_type": "code",
   "execution_count": 1,
   "id": "4729d108-6775-4f3a-a37a-eaa0a6de9144",
   "metadata": {},
   "outputs": [
    {
     "name": "stdout",
     "output_type": "stream",
     "text": [
      "Result: \n",
      "[(5/2 - 3*x2/2, x2)]\n"
     ]
    }
   ],
   "source": [
    "# pythonic solution #\n",
    "import sympy as sp\n",
    "x1, x2 = sp.symbols('x1 x2')\n",
    "equation = sp.Eq(2*x1 + 3*x2, 5)\n",
    "solution = sp.solve(equation, (x1, x2))\n",
    "\n",
    "print(\"Result: \")\n",
    "print(solution)"
   ]
  },
  {
   "cell_type": "code",
   "execution_count": null,
   "id": "16ce22f2-bd95-47b9-a8fe-eac146d4a0b1",
   "metadata": {},
   "outputs": [],
   "source": []
  }
 ],
 "metadata": {
  "kernelspec": {
   "display_name": "Python 3 (ipykernel)",
   "language": "python",
   "name": "python3"
  },
  "language_info": {
   "codemirror_mode": {
    "name": "ipython",
    "version": 3
   },
   "file_extension": ".py",
   "mimetype": "text/x-python",
   "name": "python",
   "nbconvert_exporter": "python",
   "pygments_lexer": "ipython3",
   "version": "3.11.5"
  }
 },
 "nbformat": 4,
 "nbformat_minor": 5
}
